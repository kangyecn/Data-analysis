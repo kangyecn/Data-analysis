{
 "cells": [
  {
   "cell_type": "markdown",
   "metadata": {},
   "source": [
    "### Import Library"
   ]
  },
  {
   "cell_type": "code",
   "execution_count": 1,
   "metadata": {},
   "outputs": [],
   "source": [
    "import pandas as pd     \n",
    "import numpy as np\n",
    "import matplotlib.pyplot as plt \n",
    "import seaborn as sns"
   ]
  },
  {
   "cell_type": "markdown",
   "metadata": {},
   "source": [
    "### Prepare Data"
   ]
  },
  {
   "cell_type": "code",
   "execution_count": 2,
   "metadata": {},
   "outputs": [
    {
     "data": {
      "text/html": [
       "<div>\n",
       "<style scoped>\n",
       "    .dataframe tbody tr th:only-of-type {\n",
       "        vertical-align: middle;\n",
       "    }\n",
       "\n",
       "    .dataframe tbody tr th {\n",
       "        vertical-align: top;\n",
       "    }\n",
       "\n",
       "    .dataframe thead th {\n",
       "        text-align: right;\n",
       "    }\n",
       "</style>\n",
       "<table border=\"1\" class=\"dataframe\">\n",
       "  <thead>\n",
       "    <tr style=\"text-align: right;\">\n",
       "      <th></th>\n",
       "      <th>Age</th>\n",
       "      <th>Fare</th>\n",
       "      <th>Survived</th>\n",
       "    </tr>\n",
       "  </thead>\n",
       "  <tbody>\n",
       "    <tr>\n",
       "      <th>0</th>\n",
       "      <td>29.699118</td>\n",
       "      <td>15.2458</td>\n",
       "      <td>1</td>\n",
       "    </tr>\n",
       "    <tr>\n",
       "      <th>1</th>\n",
       "      <td>31.000000</td>\n",
       "      <td>10.5000</td>\n",
       "      <td>0</td>\n",
       "    </tr>\n",
       "    <tr>\n",
       "      <th>2</th>\n",
       "      <td>20.000000</td>\n",
       "      <td>7.9250</td>\n",
       "      <td>0</td>\n",
       "    </tr>\n",
       "    <tr>\n",
       "      <th>3</th>\n",
       "      <td>6.000000</td>\n",
       "      <td>33.0000</td>\n",
       "      <td>1</td>\n",
       "    </tr>\n",
       "    <tr>\n",
       "      <th>4</th>\n",
       "      <td>14.000000</td>\n",
       "      <td>11.2417</td>\n",
       "      <td>1</td>\n",
       "    </tr>\n",
       "    <tr>\n",
       "      <th>5</th>\n",
       "      <td>26.000000</td>\n",
       "      <td>78.8500</td>\n",
       "      <td>1</td>\n",
       "    </tr>\n",
       "    <tr>\n",
       "      <th>6</th>\n",
       "      <td>29.699118</td>\n",
       "      <td>7.7500</td>\n",
       "      <td>1</td>\n",
       "    </tr>\n",
       "    <tr>\n",
       "      <th>7</th>\n",
       "      <td>16.000000</td>\n",
       "      <td>18.0000</td>\n",
       "      <td>0</td>\n",
       "    </tr>\n",
       "    <tr>\n",
       "      <th>8</th>\n",
       "      <td>16.000000</td>\n",
       "      <td>7.7500</td>\n",
       "      <td>1</td>\n",
       "    </tr>\n",
       "    <tr>\n",
       "      <th>9</th>\n",
       "      <td>19.000000</td>\n",
       "      <td>26.2833</td>\n",
       "      <td>1</td>\n",
       "    </tr>\n",
       "  </tbody>\n",
       "</table>\n",
       "</div>"
      ],
      "text/plain": [
       "         Age     Fare  Survived\n",
       "0  29.699118  15.2458         1\n",
       "1  31.000000  10.5000         0\n",
       "2  20.000000   7.9250         0\n",
       "3   6.000000  33.0000         1\n",
       "4  14.000000  11.2417         1\n",
       "5  26.000000  78.8500         1\n",
       "6  29.699118   7.7500         1\n",
       "7  16.000000  18.0000         0\n",
       "8  16.000000   7.7500         1\n",
       "9  19.000000  26.2833         1"
      ]
     },
     "execution_count": 2,
     "metadata": {},
     "output_type": "execute_result"
    }
   ],
   "source": [
    "test_features = pd.read_csv('test_features.csv')\n",
    "test_labels = pd.read_csv('test_labels.csv')\n",
    "test_features = test_features[['Age','Fare']]\n",
    "test_features = pd.concat([test_features, test_labels], axis=1)\n",
    "test_features.head(10)"
   ]
  },
  {
   "cell_type": "markdown",
   "metadata": {},
   "source": [
    "### Plot boxplot"
   ]
  },
  {
   "cell_type": "code",
   "execution_count": 3,
   "metadata": {},
   "outputs": [
    {
     "data": {
      "text/plain": [
       "Text(0, 0.5, '')"
      ]
     },
     "execution_count": 3,
     "metadata": {},
     "output_type": "execute_result"
    },
    {
     "data": {
      "image/png": "[encoded data removed]",
      "text/plain": [
       "<Figure size 432x432 with 1 Axes>"
      ]
     },
     "metadata": {
      "needs_background": "light"
     },
     "output_type": "display_data"
    }
   ],
   "source": [
    "box_plot_data=pd.melt(test_features, id_vars=['Survived'], value_vars = ['Age', 'Fare'], var_name='Variable', value_name='Value')\n",
    "\n",
    "plt.rc('font',family = 'Times New Roman',  size=22)\n",
    "\n",
    "fig = plt.figure(figsize=(6,6))\n",
    "ax1 = fig.add_subplot(1,1,1)\n",
    "sns.boxplot(x= 'Variable', y= 'Value', hue= 'Survived', data=box_plot_data, ax=ax1, \n",
    "            whis=[10, 90], palette=\"husl\", showfliers=True, showmeans=True, \n",
    "            flierprops={\"markeredgecolor\":\"grey\",\"marker\":'x',\"markersize\":5},\n",
    "           meanprops={\"marker\":\"x\",\"markerfacecolor\":\"red\", \"markeredgecolor\":\"red\"},\n",
    "           capprops={'color':'magenta','linewidth':1},\n",
    "           whiskerprops = {'color':'green','linewidth':1},\n",
    "            medianprops = {'color':'blue','linewidth':1} )\n",
    "\n",
    "ax1.set_xlabel('')\n",
    "ax1.set_ylabel('')"
   ]
  },
  {
   "cell_type": "code",
   "execution_count": 4,
   "metadata": {},
   "outputs": [
    {
     "data": {
      "image/png": "[encoded data removed]",
      "text/plain": [
       "<Figure size 432x432 with 1 Axes>"
      ]
     },
     "metadata": {
      "needs_background": "light"
     },
     "output_type": "display_data"
    }
   ],
   "source": [
    "box_plot_data=pd.melt(test_features, id_vars=['Survived'], value_vars = ['Age', 'Fare'], var_name='Variable', value_name='Value')\n",
    "\n",
    "aa=(255/255,128/255,128/255)\n",
    "bb=(0/255,162/255,232/255)\n",
    "\n",
    "plt.rc('font',family = 'Times New Roman',  size=22)\n",
    "\n",
    "fig = plt.figure(figsize=(6,6))\n",
    "ax1 = fig.add_subplot(1,1,1)\n",
    "sns.boxplot(x= 'Variable', y= 'Value', hue= 'Survived', data=box_plot_data, ax=ax1,  palette=sns.color_palette((aa, bb))) \n",
    "\n",
    "\n",
    "aa=(255/255,128/255,128/255)\n",
    "bb=(0/255,162/255,232/255)\n",
    "\n",
    "    \n",
    "col=[aa,bb,aa,bb] \n",
    "for i,artist in enumerate(ax1.artists):\n",
    "    artist.set_edgecolor(col[i])    \n",
    "    artist.set_facecolor('white')\n",
    "    for j in range(i*6,i*6+6):\n",
    "        line = ax1.lines[j]\n",
    "        line.set_color(col[i])\n",
    "        line.set_mfc(col[i])\n",
    "        line.set_mec(col[i])\n",
    " "
   ]
  },
  {
   "cell_type": "code",
   "execution_count": null,
   "metadata": {},
   "outputs": [],
   "source": []
  }
 ],
 "metadata": {
  "kernelspec": {
   "display_name": "Python 3",
   "language": "python",
   "name": "python3"
  },
  "language_info": {
   "codemirror_mode": {
    "name": "ipython",
    "version": 3
   },
   "file_extension": ".py",
   "mimetype": "text/x-python",
   "name": "python",
   "nbconvert_exporter": "python",
   "pygments_lexer": "ipython3",
   "version": "3.7.6"
  }
 },
 "nbformat": 4,
 "nbformat_minor": 4
}

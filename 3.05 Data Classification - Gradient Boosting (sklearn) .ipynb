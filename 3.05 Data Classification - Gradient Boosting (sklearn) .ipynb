{
 "cells": [
  {
   "cell_type": "markdown",
   "metadata": {},
   "source": [
    "## Gradient Boosting"
   ]
  },
  {
   "cell_type": "markdown",
   "metadata": {},
   "source": [
    "### Import Library"
   ]
  },
  {
   "cell_type": "code",
   "execution_count": 1,
   "metadata": {},
   "outputs": [],
   "source": [
    "import pandas as pd\n",
    "import matplotlib.pyplot as plt  \n",
    "from sklearn.ensemble import GradientBoostingClassifier\n",
    "from sklearn.model_selection import GridSearchCV\n",
    "from sklearn.metrics import plot_confusion_matrix "
   ]
  },
  {
   "cell_type": "markdown",
   "metadata": {},
   "source": [
    "### Prepare data"
   ]
  },
  {
   "cell_type": "code",
   "execution_count": 2,
   "metadata": {},
   "outputs": [],
   "source": [
    "train_features = pd.read_csv('train_features.csv')\n",
    "train_labels = pd.read_csv('train_labels.csv')\n",
    "\n",
    "test_features = pd.read_csv('test_features.csv')\n",
    "test_labels = pd.read_csv('test_labels.csv')\n",
    "\n",
    "Survived = ['Not survived','Survived']"
   ]
  },
  {
   "cell_type": "markdown",
   "metadata": {},
   "source": [
    "### Train model"
   ]
  },
  {
   "cell_type": "markdown",
   "metadata": {},
   "source": [
    "#### Optimize the Gradient Boosting Model"
   ]
  },
  {
   "cell_type": "code",
   "execution_count": 3,
   "metadata": {},
   "outputs": [
    {
     "name": "stdout",
     "output_type": "stream",
     "text": [
      "BEST PARAMS: {'learning_rate': 0.01, 'max_depth': 5, 'n_estimators': 250}\n",
      "\n",
      "0.624 (+/-0.006) for {'learning_rate': 0.01, 'max_depth': 1, 'n_estimators': 5}\n",
      "0.788 (+/-0.059) for {'learning_rate': 0.01, 'max_depth': 1, 'n_estimators': 50}\n",
      "0.805 (+/-0.058) for {'learning_rate': 0.01, 'max_depth': 1, 'n_estimators': 250}\n",
      "0.816 (+/-0.065) for {'learning_rate': 0.01, 'max_depth': 1, 'n_estimators': 500}\n",
      "0.624 (+/-0.006) for {'learning_rate': 0.01, 'max_depth': 3, 'n_estimators': 5}\n",
      "0.803 (+/-0.044) for {'learning_rate': 0.01, 'max_depth': 3, 'n_estimators': 50}\n",
      "0.817 (+/-0.036) for {'learning_rate': 0.01, 'max_depth': 3, 'n_estimators': 250}\n",
      "0.822 (+/-0.034) for {'learning_rate': 0.01, 'max_depth': 3, 'n_estimators': 500}\n",
      "0.624 (+/-0.006) for {'learning_rate': 0.01, 'max_depth': 5, 'n_estimators': 5}\n",
      "0.801 (+/-0.055) for {'learning_rate': 0.01, 'max_depth': 5, 'n_estimators': 50}\n",
      "0.834 (+/-0.04) for {'learning_rate': 0.01, 'max_depth': 5, 'n_estimators': 250}\n",
      "0.82 (+/-0.033) for {'learning_rate': 0.01, 'max_depth': 5, 'n_estimators': 500}\n",
      "0.624 (+/-0.006) for {'learning_rate': 0.01, 'max_depth': 7, 'n_estimators': 5}\n",
      "0.809 (+/-0.048) for {'learning_rate': 0.01, 'max_depth': 7, 'n_estimators': 50}\n",
      "0.82 (+/-0.026) for {'learning_rate': 0.01, 'max_depth': 7, 'n_estimators': 250}\n",
      "0.81 (+/-0.031) for {'learning_rate': 0.01, 'max_depth': 7, 'n_estimators': 500}\n",
      "0.624 (+/-0.006) for {'learning_rate': 0.01, 'max_depth': 9, 'n_estimators': 5}\n",
      "0.796 (+/-0.056) for {'learning_rate': 0.01, 'max_depth': 9, 'n_estimators': 50}\n",
      "0.805 (+/-0.039) for {'learning_rate': 0.01, 'max_depth': 9, 'n_estimators': 250}\n",
      "0.803 (+/-0.046) for {'learning_rate': 0.01, 'max_depth': 9, 'n_estimators': 500}\n",
      "0.788 (+/-0.059) for {'learning_rate': 0.1, 'max_depth': 1, 'n_estimators': 5}\n",
      "0.816 (+/-0.065) for {'learning_rate': 0.1, 'max_depth': 1, 'n_estimators': 50}\n",
      "0.826 (+/-0.029) for {'learning_rate': 0.1, 'max_depth': 1, 'n_estimators': 250}\n",
      "0.82 (+/-0.03) for {'learning_rate': 0.1, 'max_depth': 1, 'n_estimators': 500}\n",
      "0.798 (+/-0.047) for {'learning_rate': 0.1, 'max_depth': 3, 'n_estimators': 5}\n",
      "0.816 (+/-0.039) for {'learning_rate': 0.1, 'max_depth': 3, 'n_estimators': 50}\n",
      "0.83 (+/-0.018) for {'learning_rate': 0.1, 'max_depth': 3, 'n_estimators': 250}\n",
      "0.819 (+/-0.02) for {'learning_rate': 0.1, 'max_depth': 3, 'n_estimators': 500}\n",
      "0.801 (+/-0.044) for {'learning_rate': 0.1, 'max_depth': 5, 'n_estimators': 5}\n",
      "0.827 (+/-0.033) for {'learning_rate': 0.1, 'max_depth': 5, 'n_estimators': 50}\n",
      "0.801 (+/-0.021) for {'learning_rate': 0.1, 'max_depth': 5, 'n_estimators': 250}\n",
      "0.791 (+/-0.034) for {'learning_rate': 0.1, 'max_depth': 5, 'n_estimators': 500}\n",
      "0.805 (+/-0.052) for {'learning_rate': 0.1, 'max_depth': 7, 'n_estimators': 5}\n",
      "0.805 (+/-0.018) for {'learning_rate': 0.1, 'max_depth': 7, 'n_estimators': 50}\n",
      "0.788 (+/-0.029) for {'learning_rate': 0.1, 'max_depth': 7, 'n_estimators': 250}\n",
      "0.788 (+/-0.035) for {'learning_rate': 0.1, 'max_depth': 7, 'n_estimators': 500}\n",
      "0.795 (+/-0.059) for {'learning_rate': 0.1, 'max_depth': 9, 'n_estimators': 5}\n",
      "0.798 (+/-0.044) for {'learning_rate': 0.1, 'max_depth': 9, 'n_estimators': 50}\n",
      "0.792 (+/-0.043) for {'learning_rate': 0.1, 'max_depth': 9, 'n_estimators': 250}\n",
      "0.796 (+/-0.035) for {'learning_rate': 0.1, 'max_depth': 9, 'n_estimators': 500}\n",
      "0.824 (+/-0.044) for {'learning_rate': 1, 'max_depth': 1, 'n_estimators': 5}\n",
      "0.83 (+/-0.014) for {'learning_rate': 1, 'max_depth': 1, 'n_estimators': 50}\n",
      "0.823 (+/-0.029) for {'learning_rate': 1, 'max_depth': 1, 'n_estimators': 250}\n",
      "0.819 (+/-0.027) for {'learning_rate': 1, 'max_depth': 1, 'n_estimators': 500}\n",
      "0.817 (+/-0.032) for {'learning_rate': 1, 'max_depth': 3, 'n_estimators': 5}\n",
      "0.796 (+/-0.061) for {'learning_rate': 1, 'max_depth': 3, 'n_estimators': 50}\n",
      "0.786 (+/-0.032) for {'learning_rate': 1, 'max_depth': 3, 'n_estimators': 250}\n",
      "0.789 (+/-0.043) for {'learning_rate': 1, 'max_depth': 3, 'n_estimators': 500}\n",
      "0.81 (+/-0.023) for {'learning_rate': 1, 'max_depth': 5, 'n_estimators': 5}\n",
      "0.788 (+/-0.011) for {'learning_rate': 1, 'max_depth': 5, 'n_estimators': 50}\n",
      "0.786 (+/-0.02) for {'learning_rate': 1, 'max_depth': 5, 'n_estimators': 250}\n",
      "0.782 (+/-0.03) for {'learning_rate': 1, 'max_depth': 5, 'n_estimators': 500}\n",
      "0.788 (+/-0.037) for {'learning_rate': 1, 'max_depth': 7, 'n_estimators': 5}\n",
      "0.784 (+/-0.051) for {'learning_rate': 1, 'max_depth': 7, 'n_estimators': 50}\n",
      "0.789 (+/-0.037) for {'learning_rate': 1, 'max_depth': 7, 'n_estimators': 250}\n",
      "0.796 (+/-0.042) for {'learning_rate': 1, 'max_depth': 7, 'n_estimators': 500}\n",
      "0.777 (+/-0.048) for {'learning_rate': 1, 'max_depth': 9, 'n_estimators': 5}\n",
      "0.792 (+/-0.012) for {'learning_rate': 1, 'max_depth': 9, 'n_estimators': 50}\n",
      "0.799 (+/-0.033) for {'learning_rate': 1, 'max_depth': 9, 'n_estimators': 250}\n",
      "0.796 (+/-0.034) for {'learning_rate': 1, 'max_depth': 9, 'n_estimators': 500}\n",
      "0.225 (+/-0.078) for {'learning_rate': 10, 'max_depth': 1, 'n_estimators': 5}\n",
      "0.225 (+/-0.078) for {'learning_rate': 10, 'max_depth': 1, 'n_estimators': 50}\n",
      "0.225 (+/-0.078) for {'learning_rate': 10, 'max_depth': 1, 'n_estimators': 250}\n",
      "0.225 (+/-0.078) for {'learning_rate': 10, 'max_depth': 1, 'n_estimators': 500}\n",
      "0.301 (+/-0.119) for {'learning_rate': 10, 'max_depth': 3, 'n_estimators': 5}\n",
      "0.301 (+/-0.119) for {'learning_rate': 10, 'max_depth': 3, 'n_estimators': 50}\n",
      "0.301 (+/-0.119) for {'learning_rate': 10, 'max_depth': 3, 'n_estimators': 250}\n",
      "0.301 (+/-0.119) for {'learning_rate': 10, 'max_depth': 3, 'n_estimators': 500}\n",
      "0.384 (+/-0.119) for {'learning_rate': 10, 'max_depth': 5, 'n_estimators': 5}\n",
      "0.436 (+/-0.198) for {'learning_rate': 10, 'max_depth': 5, 'n_estimators': 50}\n",
      "0.444 (+/-0.204) for {'learning_rate': 10, 'max_depth': 5, 'n_estimators': 250}\n",
      "0.44 (+/-0.203) for {'learning_rate': 10, 'max_depth': 5, 'n_estimators': 500}\n",
      "0.495 (+/-0.253) for {'learning_rate': 10, 'max_depth': 7, 'n_estimators': 5}\n",
      "0.479 (+/-0.091) for {'learning_rate': 10, 'max_depth': 7, 'n_estimators': 50}\n",
      "0.479 (+/-0.061) for {'learning_rate': 10, 'max_depth': 7, 'n_estimators': 250}\n",
      "0.493 (+/-0.157) for {'learning_rate': 10, 'max_depth': 7, 'n_estimators': 500}\n",
      "0.645 (+/-0.126) for {'learning_rate': 10, 'max_depth': 9, 'n_estimators': 5}\n",
      "0.612 (+/-0.142) for {'learning_rate': 10, 'max_depth': 9, 'n_estimators': 50}\n",
      "0.607 (+/-0.133) for {'learning_rate': 10, 'max_depth': 9, 'n_estimators': 250}\n",
      "0.624 (+/-0.106) for {'learning_rate': 10, 'max_depth': 9, 'n_estimators': 500}\n",
      "0.376 (+/-0.006) for {'learning_rate': 100, 'max_depth': 1, 'n_estimators': 5}\n",
      "0.376 (+/-0.006) for {'learning_rate': 100, 'max_depth': 1, 'n_estimators': 50}\n",
      "0.376 (+/-0.006) for {'learning_rate': 100, 'max_depth': 1, 'n_estimators': 250}\n",
      "0.376 (+/-0.006) for {'learning_rate': 100, 'max_depth': 1, 'n_estimators': 500}\n",
      "0.266 (+/-0.078) for {'learning_rate': 100, 'max_depth': 3, 'n_estimators': 5}\n",
      "0.264 (+/-0.078) for {'learning_rate': 100, 'max_depth': 3, 'n_estimators': 50}\n",
      "0.266 (+/-0.078) for {'learning_rate': 100, 'max_depth': 3, 'n_estimators': 250}\n",
      "0.266 (+/-0.078) for {'learning_rate': 100, 'max_depth': 3, 'n_estimators': 500}\n",
      "0.371 (+/-0.107) for {'learning_rate': 100, 'max_depth': 5, 'n_estimators': 5}\n",
      "0.434 (+/-0.336) for {'learning_rate': 100, 'max_depth': 5, 'n_estimators': 50}\n",
      "0.371 (+/-0.107) for {'learning_rate': 100, 'max_depth': 5, 'n_estimators': 250}\n",
      "0.393 (+/-0.404) for {'learning_rate': 100, 'max_depth': 5, 'n_estimators': 500}\n",
      "0.459 (+/-0.247) for {'learning_rate': 100, 'max_depth': 7, 'n_estimators': 5}\n",
      "0.514 (+/-0.209) for {'learning_rate': 100, 'max_depth': 7, 'n_estimators': 50}\n",
      "0.442 (+/-0.151) for {'learning_rate': 100, 'max_depth': 7, 'n_estimators': 250}\n",
      "0.493 (+/-0.293) for {'learning_rate': 100, 'max_depth': 7, 'n_estimators': 500}\n",
      "0.584 (+/-0.066) for {'learning_rate': 100, 'max_depth': 9, 'n_estimators': 5}\n",
      "0.566 (+/-0.102) for {'learning_rate': 100, 'max_depth': 9, 'n_estimators': 50}\n",
      "0.591 (+/-0.082) for {'learning_rate': 100, 'max_depth': 9, 'n_estimators': 250}\n",
      "0.584 (+/-0.099) for {'learning_rate': 100, 'max_depth': 9, 'n_estimators': 500}\n"
     ]
    }
   ],
   "source": [
    "def print_results(results):\n",
    "    print('BEST PARAMS: {}\\n'.format(results.best_params_))\n",
    "\n",
    "    means = results.cv_results_['mean_test_score']\n",
    "    stds = results.cv_results_['std_test_score']\n",
    "    for mean, std, params in zip(means, stds, results.cv_results_['params']):\n",
    "        print('{} (+/-{}) for {}'.format(round(mean, 3), round(std * 2, 3), params))\n",
    "        \n",
    "gb = GradientBoostingClassifier()\n",
    "parameters = {\n",
    "    'n_estimators': [5, 50, 250, 500],\n",
    "    'max_depth': [1, 3, 5, 7, 9],\n",
    "    'learning_rate': [0.01, 0.1, 1, 10, 100]\n",
    "}\n",
    "\n",
    "cv = GridSearchCV(gb, parameters, cv=5)\n",
    "cv.fit(train_features, train_labels.values.ravel())\n",
    "\n",
    "print_results(cv)\n",
    "\n",
    "best_gb=cv.best_estimator_"
   ]
  },
  {
   "cell_type": "markdown",
   "metadata": {},
   "source": [
    "### Test Model"
   ]
  },
  {
   "cell_type": "markdown",
   "metadata": {},
   "source": [
    "#### Visualize the Confusion Matrix"
   ]
  },
  {
   "cell_type": "code",
   "execution_count": 4,
   "metadata": {},
   "outputs": [
    {
     "data": {
      "text/plain": [
       "<sklearn.metrics._plot.confusion_matrix.ConfusionMatrixDisplay at 0x16399570888>"
      ]
     },
     "execution_count": 4,
     "metadata": {},
     "output_type": "execute_result"
    },
    {
     "data": {
      "image/png": "[encoded data removed]",
      "text/plain": [
       "<Figure size 432x288 with 2 Axes>"
      ]
     },
     "metadata": {
      "needs_background": "light"
     },
     "output_type": "display_data"
    }
   ],
   "source": [
    "plot_confusion_matrix(\n",
    "    best_gb, test_features, test_labels,\n",
    "    display_labels=Survived,\n",
    "    normalize='true')"
   ]
  },
  {
   "cell_type": "markdown",
   "metadata": {},
   "source": [
    "#### Caluate the accuracy of the test data"
   ]
  },
  {
   "cell_type": "code",
   "execution_count": 5,
   "metadata": {},
   "outputs": [
    {
     "name": "stdout",
     "output_type": "stream",
     "text": [
      "Accuracy on testing data: 80.45%\n"
     ]
    }
   ],
   "source": [
    "print(\n",
    "    'Accuracy on testing data: ' \n",
    "    + str(\"{:.2%}\".format(best_gb.score(test_features, test_labels))))"
   ]
  },
  {
   "cell_type": "code",
   "execution_count": null,
   "metadata": {},
   "outputs": [],
   "source": []
  }
 ],
 "metadata": {
  "kernelspec": {
   "display_name": "Python 3",
   "language": "python",
   "name": "python3"
  },
  "language_info": {
   "codemirror_mode": {
    "name": "ipython",
    "version": 3
   },
   "file_extension": ".py",
   "mimetype": "text/x-python",
   "name": "python",
   "nbconvert_exporter": "python",
   "pygments_lexer": "ipython3",
   "version": "3.7.6"
  }
 },
 "nbformat": 4,
 "nbformat_minor": 4
}

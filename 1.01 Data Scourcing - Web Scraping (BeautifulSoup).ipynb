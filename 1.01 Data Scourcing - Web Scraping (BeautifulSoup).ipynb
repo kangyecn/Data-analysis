{
 "cells": [
  {
   "cell_type": "markdown",
   "metadata": {},
   "source": [
    "## Import library"
   ]
  },
  {
   "cell_type": "code",
   "execution_count": 1,
   "metadata": {},
   "outputs": [],
   "source": [
    "import pandas as pd\n",
    "import numpy as np\n",
    "from bs4 import BeautifulSoup\n",
    "from selenium import webdriver\n",
    "from webdriver_manager.chrome import ChromeDriverManager\n",
    "from time import sleep\n",
    "import datetime"
   ]
  },
  {
   "cell_type": "markdown",
   "metadata": {},
   "source": [
    "## Web scraping"
   ]
  },
  {
   "cell_type": "code",
   "execution_count": 2,
   "metadata": {},
   "outputs": [
    {
     "name": "stderr",
     "output_type": "stream",
     "text": [
      "[WDM] - ====== WebDriver manager ======\n",
      "[WDM] - Current google-chrome version is 95.0.4638\n",
      "[WDM] - Get LATEST driver version for 95.0.4638\n"
     ]
    },
    {
     "name": "stdout",
     "output_type": "stream",
     "text": [
      "\n",
      "\n"
     ]
    },
    {
     "name": "stderr",
     "output_type": "stream",
     "text": [
      "[WDM] - Get LATEST driver version for 95.0.4638\n",
      "[WDM] - Trying to download new driver from https://chromedriver.storage.googleapis.com/95.0.4638.54/chromedriver_win32.zip\n",
      "[WDM] - Driver has been saved in cache [C:\\Users\\ykan0018\\.wdm\\drivers\\chromedriver\\win32\\95.0.4638.54]\n"
     ]
    }
   ],
   "source": [
    "current_date=datetime.datetime(year=2021, month=11,day=1)\n",
    "driver = webdriver.Chrome(ChromeDriverManager().install())\n",
    "driver.get('https://www.wunderground.com/history/daily/au/melbourne/YMMB/date/'+str(current_date.year)+'-'+str(current_date.month)+'-'+str(current_date.day))\n",
    "sleep(3)\n",
    "html = driver.page_source\n",
    "soup = BeautifulSoup(html,'lxml')\n",
    "driver.close()\n",
    "tables = soup.find_all('table')\n",
    "j=0\n",
    "k=0\n",
    "DF=pd.DataFrame(index=np.arange(24), columns=['time','temperature','dew point','humidity','wind',\n",
    "                                          'wind speed', 'wind gust','pressure','precip.','condition'])\n",
    "for i in range(100):\n",
    "    try:\n",
    "        if j ==0:\n",
    "            DF.iloc[0,0] =soup.find_all('tr')[i]('td')[0].text\n",
    "        if j ==1:\n",
    "            for l in range(10):\n",
    "                DF.iloc[k,l] =soup.find_all('tr')[i]('td')[l].text\n",
    "            k=k+1\n",
    "    except IndexError:\n",
    "        j=j+1\n",
    "DF=DF.dropna(axis=0,how='all') \n",
    "DF.to_csv(str(current_date.year)+'-'+str(current_date.month)+'-'+str(current_date.day)+'.csv', index=False, encoding = 'utf-8-sig') \n",
    "    "
   ]
  },
  {
   "cell_type": "code",
   "execution_count": null,
   "metadata": {},
   "outputs": [],
   "source": []
  }
 ],
 "metadata": {
  "kernelspec": {
   "display_name": "Python 3",
   "language": "python",
   "name": "python3"
  },
  "language_info": {
   "codemirror_mode": {
    "name": "ipython",
    "version": 3
   },
   "file_extension": ".py",
   "mimetype": "text/x-python",
   "name": "python",
   "nbconvert_exporter": "python",
   "pygments_lexer": "ipython3",
   "version": "3.7.6"
  }
 },
 "nbformat": 4,
 "nbformat_minor": 4
}

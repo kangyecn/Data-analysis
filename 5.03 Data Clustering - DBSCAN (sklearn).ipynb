{
 "cells": [
  {
   "cell_type": "markdown",
   "metadata": {},
   "source": [
    "### Import Library"
   ]
  },
  {
   "cell_type": "code",
   "execution_count": 1,
   "metadata": {},
   "outputs": [],
   "source": [
    "import pandas as pd                               \n",
    "import matplotlib.pyplot as plt                   \n",
    "import seaborn as sns                             \n",
    "from sklearn.cluster import DBSCAN                \n",
    "import numpy as np                                \n",
    "from sklearn.preprocessing import StandardScaler   \n",
    "from sklearn.neighbors import NearestNeighbors "
   ]
  },
  {
   "cell_type": "markdown",
   "metadata": {},
   "source": [
    "### Prepare Data"
   ]
  },
  {
   "cell_type": "code",
   "execution_count": 2,
   "metadata": {},
   "outputs": [
    {
     "data": {
      "text/html": [
       "<div>\n",
       "<style scoped>\n",
       "    .dataframe tbody tr th:only-of-type {\n",
       "        vertical-align: middle;\n",
       "    }\n",
       "\n",
       "    .dataframe tbody tr th {\n",
       "        vertical-align: top;\n",
       "    }\n",
       "\n",
       "    .dataframe thead th {\n",
       "        text-align: right;\n",
       "    }\n",
       "</style>\n",
       "<table border=\"1\" class=\"dataframe\">\n",
       "  <thead>\n",
       "    <tr style=\"text-align: right;\">\n",
       "      <th></th>\n",
       "      <th>Age</th>\n",
       "      <th>Fare</th>\n",
       "    </tr>\n",
       "  </thead>\n",
       "  <tbody>\n",
       "    <tr>\n",
       "      <th>0</th>\n",
       "      <td>-0.049184</td>\n",
       "      <td>-0.392468</td>\n",
       "    </tr>\n",
       "    <tr>\n",
       "      <th>1</th>\n",
       "      <td>0.050792</td>\n",
       "      <td>-0.513112</td>\n",
       "    </tr>\n",
       "    <tr>\n",
       "      <th>2</th>\n",
       "      <td>-0.794584</td>\n",
       "      <td>-0.578571</td>\n",
       "    </tr>\n",
       "    <tr>\n",
       "      <th>3</th>\n",
       "      <td>-1.870518</td>\n",
       "      <td>0.058863</td>\n",
       "    </tr>\n",
       "    <tr>\n",
       "      <th>4</th>\n",
       "      <td>-1.255699</td>\n",
       "      <td>-0.494257</td>\n",
       "    </tr>\n",
       "    <tr>\n",
       "      <th>5</th>\n",
       "      <td>-0.333470</td>\n",
       "      <td>1.224421</td>\n",
       "    </tr>\n",
       "    <tr>\n",
       "      <th>6</th>\n",
       "      <td>-0.049184</td>\n",
       "      <td>-0.583020</td>\n",
       "    </tr>\n",
       "    <tr>\n",
       "      <th>7</th>\n",
       "      <td>-1.101994</td>\n",
       "      <td>-0.322453</td>\n",
       "    </tr>\n",
       "    <tr>\n",
       "      <th>8</th>\n",
       "      <td>-1.101994</td>\n",
       "      <td>-0.583020</td>\n",
       "    </tr>\n",
       "    <tr>\n",
       "      <th>9</th>\n",
       "      <td>-0.871437</td>\n",
       "      <td>-0.111883</td>\n",
       "    </tr>\n",
       "  </tbody>\n",
       "</table>\n",
       "</div>"
      ],
      "text/plain": [
       "        Age      Fare\n",
       "0 -0.049184 -0.392468\n",
       "1  0.050792 -0.513112\n",
       "2 -0.794584 -0.578571\n",
       "3 -1.870518  0.058863\n",
       "4 -1.255699 -0.494257\n",
       "5 -0.333470  1.224421\n",
       "6 -0.049184 -0.583020\n",
       "7 -1.101994 -0.322453\n",
       "8 -1.101994 -0.583020\n",
       "9 -0.871437 -0.111883"
      ]
     },
     "execution_count": 2,
     "metadata": {},
     "output_type": "execute_result"
    }
   ],
   "source": [
    "test_features = pd.read_csv('test_features.csv')\n",
    "test_labels = pd.read_csv('test_labels.csv')\n",
    "\n",
    "test_features = test_features[['Age','Fare']]\n",
    "\n",
    "test_features = pd.DataFrame(\n",
    "    StandardScaler().fit_transform(test_features),\n",
    "    columns=test_features.columns)\n",
    "\n",
    "Survived_mapDict={\n",
    "    1:'Survived',\n",
    "    0:'Not Survived'\n",
    "}\n",
    "\n",
    "y=test_labels['Survived'].map(Survived_mapDict)\n",
    "\n",
    "test_features.head(10)"
   ]
  },
  {
   "cell_type": "markdown",
   "metadata": {},
   "source": [
    "### Determine the parameter for DBSCAN"
   ]
  },
  {
   "cell_type": "code",
   "execution_count": 3,
   "metadata": {},
   "outputs": [
    {
     "data": {
      "text/plain": [
       "<matplotlib.lines.Line2D at 0x14931959248>"
      ]
     },
     "execution_count": 3,
     "metadata": {},
     "output_type": "execute_result"
    },
    {
     "data": {
      "image/png": "[encoded data removed]",
      "text/plain": [
       "<Figure size 432x288 with 1 Axes>"
      ]
     },
     "metadata": {
      "needs_background": "light"
     },
     "output_type": "display_data"
    }
   ],
   "source": [
    "k = 7\n",
    "\n",
    "# Fits a NearestNeighbors object to df\n",
    "nn = NearestNeighbors(n_neighbors=k) \\\n",
    "    .fit(test_features)\n",
    "\n",
    "# Finds the distance of k closest neighbors\n",
    "dist, ind = nn.kneighbors(test_features)\n",
    "\n",
    "# Sorts the distances\n",
    "dist = np.sort(dist, axis=0)[:,1]\n",
    "\n",
    "# Plots the distances\n",
    "plt.plot(dist)\n",
    "\n",
    "# Draws a horizontal line at the bend\n",
    "plt.axhline(y=.4, color='red', ls='--')"
   ]
  },
  {
   "cell_type": "markdown",
   "metadata": {},
   "source": [
    "### DBSCAN Clustering"
   ]
  },
  {
   "cell_type": "code",
   "execution_count": 4,
   "metadata": {},
   "outputs": [
    {
     "data": {
      "text/plain": [
       "<matplotlib.axes._subplots.AxesSubplot at 0x14931a7c6c8>"
      ]
     },
     "execution_count": 4,
     "metadata": {},
     "output_type": "execute_result"
    },
    {
     "data": {
      "image/png": "[encoded data removed]",
      "text/plain": [
       "<Figure size 432x288 with 1 Axes>"
      ]
     },
     "metadata": {
      "needs_background": "light"
     },
     "output_type": "display_data"
    }
   ],
   "source": [
    "# Fits a DBSCAN object to df\n",
    "db=DBSCAN(eps=0.4, min_samples=k) \\\n",
    "    .fit(test_features)\n",
    "\n",
    "# Creates a scatter plot to visualize the clusters\n",
    "sns.scatterplot(\n",
    "    x='Age', \n",
    "    y='Fare',\n",
    "    data=test_features, \n",
    "    hue=y,\n",
    "    style=db.labels_,\n",
    "    palette=['orange', 'green'])"
   ]
  },
  {
   "cell_type": "code",
   "execution_count": null,
   "metadata": {},
   "outputs": [],
   "source": []
  },
  {
   "cell_type": "code",
   "execution_count": null,
   "metadata": {},
   "outputs": [],
   "source": []
  }
 ],
 "metadata": {
  "kernelspec": {
   "display_name": "Python 3",
   "language": "python",
   "name": "python3"
  },
  "language_info": {
   "codemirror_mode": {
    "name": "ipython",
    "version": 3
   },
   "file_extension": ".py",
   "mimetype": "text/x-python",
   "name": "python",
   "nbconvert_exporter": "python",
   "pygments_lexer": "ipython3",
   "version": "3.7.6"
  }
 },
 "nbformat": 4,
 "nbformat_minor": 4
}
